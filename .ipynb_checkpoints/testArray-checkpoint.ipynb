{
 "cells": [
  {
   "cell_type": "markdown",
   "metadata": {},
   "source": [
    "# 1. 数组的内部实现和基础功能"
   ]
  },
  {
   "cell_type": "markdown",
   "metadata": {},
   "source": [
    "## 1.2 内部实现"
   ]
  },
  {
   "cell_type": "markdown",
   "metadata": {},
   "source": [
    "在 Go 语言里，数组是一个长度固定的数据类型，用于存储一段具有相同的类型的元素的连\n",
    "续块。数组存储的类型可以是内置类型，如整型或者字符串，也可以是某种结构类型。\n",
    "\n",
    "数组是一种非常有用的数据结构，因为其占用的内存是连续分配的。由于内存连续，CPU\n",
    "能把正在使用的数据缓存更久的时间。而且内存连续很容易计算索引，可以快速迭代数组里的所\n",
    "有元素。数组的类型信息可以提供每次访问一个元素时需要在内存中移动的距离。既然数组的每\n",
    "个元素类型相同，又是连续分配，就可以以固定速度索引数组中的任意数据，速度非常快。"
   ]
  },
  {
   "cell_type": "markdown",
   "metadata": {},
   "source": [
    "## 1.3 声明和初始化"
   ]
  },
  {
   "cell_type": "code",
   "execution_count": 16,
   "metadata": {},
   "outputs": [
    {
     "name": "stdout",
     "output_type": "stream",
     "text": [
      "[0 0 0 0 0]\n",
      "[10 20 30 40 50]\n",
      "[1 2 4 5 7 7]\n",
      "[0 10 20 0 0]\n"
     ]
    },
    {
     "data": {
      "text/plain": [
       "14 <nil>"
      ]
     },
     "execution_count": 16,
     "metadata": {},
     "output_type": "execute_result"
    }
   ],
   "source": [
    "import \"fmt\"\n",
    "\n",
    "// 声明一个数组并设置为零值\n",
    "var array [5]int\n",
    "fmt.Println(array)\n",
    "\n",
    "// 使用数组字面量声明数组\n",
    "array := [5]int{10, 20, 30, 40, 50}\n",
    "fmt.Println(array)\n",
    "\n",
    "// 让 Go 自动计算声明数组的长度\n",
    "array := [...]int{1, 2, 4, 5, 7, 7}\n",
    "fmt.Println(array)\n",
    "\n",
    "// 声明数组并指定特定元素的值\n",
    "array := [5]int{1: 10, 2: 20}\n",
    "fmt.Println(array)"
   ]
  },
  {
   "cell_type": "markdown",
   "metadata": {},
   "source": [
    "## 1.4 使用数组"
   ]
  },
  {
   "cell_type": "code",
   "execution_count": 31,
   "metadata": {},
   "outputs": [
    {
     "name": "stdout",
     "output_type": "stream",
     "text": [
      "==1==\n",
      "[10 20 30 40 50]\n",
      "==2==\n",
      "[10 20 1100 40 50]\n",
      "==3==\n",
      "[0xc000231e98 0xc000231ea0 <nil> <nil> <nil>]\n",
      "==4==\n",
      "array1 [    ]\n",
      "array2 [Red Blue Green Yellow Pink]\n",
      "array1 [Red Blue Green Yellow Pink]\n",
      "==5==\n",
      "array4 [0xc000420eb0 0xc000420ec0 0xc000420ed0]\n",
      "array3 [<nil> <nil> <nil>]\n",
      "array3 [0xc000420eb0 0xc000420ec0 0xc000420ed0]\n"
     ]
    },
    {
     "data": {
      "text/plain": [
       "48 <nil>"
      ]
     },
     "execution_count": 31,
     "metadata": {},
     "output_type": "execute_result"
    }
   ],
   "source": [
    "import \"fmt\"\n",
    "\n",
    "// 1. 声明一个包含5个元素的整形数组\n",
    "fmt.Println(\"==1==\")\n",
    "array := [5]int{10, 20, 30, 40, 50}\n",
    "fmt.Println(array)\n",
    "\n",
    "// 2. 修改索引为2的元素的值\n",
    "fmt.Println(\"==2==\")\n",
    "array[2] = 1100\n",
    "fmt.Println(array)\n",
    "\n",
    "// 3. 访问指针数组的元素\n",
    "fmt.Println(\"==3==\")\n",
    "array := [5]*int{0: new(int), 1: new(int)}\n",
    "*array[0] = 11111\n",
    "*array[1] = 99999\n",
    "fmt.Println(array)\n",
    "\n",
    "// 4. 把同样类型的一个数组赋值给另外一个数组\n",
    "fmt.Println(\"==4==\")\n",
    "var array1 [5]string\n",
    "fmt.Println(\"array1\", array1)\n",
    "array2 := [5]string{\"Red\", \"Blue\", \"Green\", \"Yellow\", \"Pink\"}\n",
    "fmt.Println(\"array2\", array2)\n",
    "array1 = array2\n",
    "fmt.Println(\"array1\", array1)\n",
    "\n",
    "// 5. 把一个指针数组赋值给另一个\n",
    "fmt.Println(\"==5==\")\n",
    "var array3 [3]*string\n",
    "array4 := [3]*string{new(string), new(string), new(string)}\n",
    "*array4[0] = \"Red\"\n",
    "*array4[1] = \"Blue\"\n",
    "*array4[2] = \"Green\"\n",
    "fmt.Println(\"array4\", array4)\n",
    "fmt.Println(\"array3\", array3)\n",
    "array3 = array4\n",
    "fmt.Println(\"array3\", array3)"
   ]
  },
  {
   "cell_type": "code",
   "execution_count": 35,
   "metadata": {},
   "outputs": [
    {
     "name": "stdout",
     "output_type": "stream",
     "text": [
      "*array3[0]:  dutianze\n"
     ]
    },
    {
     "data": {
      "text/plain": [
       "22 <nil>"
      ]
     },
     "execution_count": 35,
     "metadata": {},
     "output_type": "execute_result"
    }
   ],
   "source": [
    "*array4[0] = \"dutianze\"\n",
    "fmt.Println(\"*array3[0]: \", *array3[0])"
   ]
  },
  {
   "cell_type": "markdown",
   "metadata": {},
   "source": [
    "## 多维数组"
   ]
  },
  {
   "cell_type": "code",
   "execution_count": 37,
   "metadata": {},
   "outputs": [
    {
     "data": {
      "text/plain": [
       "[[0 0] [0 0] [0 0] [0 0]]"
      ]
     },
     "execution_count": 37,
     "metadata": {},
     "output_type": "execute_result"
    }
   ],
   "source": [
    "// 声明一个二维整型数组，两个维度分别存储 4 个元素和 2 个元素\n",
    "var array [4][2]int\n",
    "array"
   ]
  },
  {
   "cell_type": "code",
   "execution_count": 40,
   "metadata": {},
   "outputs": [
    {
     "data": {
      "text/plain": [
       "[[10 11] [20 21] [30 31] [40 41]]"
      ]
     },
     "execution_count": 40,
     "metadata": {},
     "output_type": "execute_result"
    }
   ],
   "source": [
    "// 使用数组字面量来声明并初始化一个二维整型数组\n",
    "array := [4][2]int{{10,11} , {20, 21}, {30, 31}, {40, 41}}\n",
    "array"
   ]
  },
  {
   "cell_type": "code",
   "execution_count": 41,
   "metadata": {},
   "outputs": [
    {
     "data": {
      "text/plain": [
       "[[0 0] [20 21] [0 0] [40 41]]"
      ]
     },
     "execution_count": 41,
     "metadata": {},
     "output_type": "execute_result"
    }
   ],
   "source": [
    "// 声明并初始化外层数组中索引为 1 个和 3 的元素\n",
    "array := [4][2]int{1: {20,21}, 3: {40, 41}}\n",
    "array"
   ]
  },
  {
   "cell_type": "code",
   "execution_count": 42,
   "metadata": {},
   "outputs": [
    {
     "data": {
      "text/plain": [
       "[[0 0] [20 0] [0 0] [0 41]]"
      ]
     },
     "execution_count": 42,
     "metadata": {},
     "output_type": "execute_result"
    }
   ],
   "source": [
    "// 声明并初始化外层数组和内层数组的单个元素\n",
    "array := [4][2]int{1: {0: 20}, 3: {1: 41}}\n",
    "array"
   ]
  },
  {
   "cell_type": "code",
   "execution_count": 43,
   "metadata": {},
   "outputs": [],
   "source": [
    "// 声明一个 2×2 的二维整型数组\n",
    "var array [2][2]int"
   ]
  },
  {
   "cell_type": "code",
   "execution_count": 45,
   "metadata": {},
   "outputs": [
    {
     "data": {
      "text/plain": [
       "[[10 20] [30 40]]"
      ]
     },
     "execution_count": 45,
     "metadata": {},
     "output_type": "execute_result"
    }
   ],
   "source": [
    "//  设置每个元素的整型值\n",
    "array[0][0] = 10\n",
    "array[0][1] = 20\n",
    "array[1][0] = 30\n",
    "array[1][1] = 40\n",
    "array\n",
    "// ps: 跟c java差不多"
   ]
  },
  {
   "cell_type": "markdown",
   "metadata": {},
   "source": [
    "## 函数间传递数组"
   ]
  },
  {
   "cell_type": "code",
   "execution_count": 51,
   "metadata": {},
   "outputs": [],
   "source": [
    "func foo(array *[1e6]int) {\n",
    "    \n",
    "}\n",
    "var array [1e6]int\n",
    "foo(&array)"
   ]
  },
  {
   "cell_type": "markdown",
   "metadata": {},
   "source": [
    "# 切片"
   ]
  },
  {
   "cell_type": "code",
   "execution_count": null,
   "metadata": {},
   "outputs": [],
   "source": []
  }
 ],
 "metadata": {
  "kernelspec": {
   "display_name": "Go",
   "language": "go",
   "name": "gophernotes"
  },
  "language_info": {
   "codemirror_mode": "",
   "file_extension": ".go",
   "mimetype": "",
   "name": "go",
   "nbconvert_exporter": "",
   "pygments_lexer": "",
   "version": "go1.13.3"
  }
 },
 "nbformat": 4,
 "nbformat_minor": 2
}
