{
 "cells": [
  {
   "cell_type": "code",
   "execution_count": 142,
   "metadata": {},
   "outputs": [],
   "source": [
    "type user struct {\n",
    " name string\n",
    " email string\n",
    "}"
   ]
  },
  {
   "cell_type": "markdown",
   "metadata": {},
   "source": [
    "## 原始结构类型值的值接收者方法 是复制对象"
   ]
  },
  {
   "cell_type": "code",
   "execution_count": 143,
   "metadata": {},
   "outputs": [],
   "source": [
    "import \"fmt\"\n",
    "func (u user) copyName() user{\n",
    "    u.name = \"dutianze-copy\"\n",
    "    return u\n",
    "}\n",
    "// changeEmail 使用指针接收者实现了一个方法\n",
    "func (u *user) updateName() user{\n",
    "    u.name = \"dutianze-point\"\n",
    "    return *u\n",
    "}"
   ]
  },
  {
   "cell_type": "code",
   "execution_count": 144,
   "metadata": {},
   "outputs": [],
   "source": [
    "bill := user{\"Bill\", \"bill@email.com\"}"
   ]
  },
  {
   "cell_type": "code",
   "execution_count": 145,
   "metadata": {},
   "outputs": [
    {
     "data": {
      "text/plain": [
       "{dutianze-copy bill@email.com}"
      ]
     },
     "execution_count": 145,
     "metadata": {},
     "output_type": "execute_result"
    }
   ],
   "source": [
    "bill.copyName()"
   ]
  },
  {
   "cell_type": "code",
   "execution_count": 146,
   "metadata": {},
   "outputs": [
    {
     "data": {
      "text/plain": [
       "{Bill bill@email.com}"
      ]
     },
     "execution_count": 146,
     "metadata": {},
     "output_type": "execute_result"
    }
   ],
   "source": [
    "bill"
   ]
  },
  {
   "cell_type": "markdown",
   "metadata": {},
   "source": [
    "## 原始结构类型的指针接收者方法 是共享对象"
   ]
  },
  {
   "cell_type": "code",
   "execution_count": 147,
   "metadata": {},
   "outputs": [
    {
     "data": {
      "text/plain": [
       "{dutianze-point bill@email.com}"
      ]
     },
     "execution_count": 147,
     "metadata": {},
     "output_type": "execute_result"
    }
   ],
   "source": [
    "bill.updateName()"
   ]
  },
  {
   "cell_type": "code",
   "execution_count": 148,
   "metadata": {},
   "outputs": [
    {
     "data": {
      "text/plain": [
       "{dutianze-point bill@email.com}"
      ]
     },
     "execution_count": 148,
     "metadata": {},
     "output_type": "execute_result"
    }
   ],
   "source": [
    "bill"
   ]
  },
  {
   "cell_type": "code",
   "execution_count": 149,
   "metadata": {},
   "outputs": [
    {
     "data": {
      "text/plain": [
       "{dutianze bill@newdomain.com}"
      ]
     },
     "execution_count": 149,
     "metadata": {},
     "output_type": "execute_result"
    }
   ],
   "source": [
    "// 使用指针接收者声明的方法\n",
    "bill.changeEmail(\"bill@newdomain.com\")\n",
    "bill.notify()"
   ]
  },
  {
   "cell_type": "code",
   "execution_count": 150,
   "metadata": {},
   "outputs": [],
   "source": [
    " type IP []byte"
   ]
  },
  {
   "cell_type": "markdown",
   "metadata": {},
   "source": [
    "## 引用类型的值接收者方法 是共享对象"
   ]
  },
  {
   "cell_type": "code",
   "execution_count": 159,
   "metadata": {},
   "outputs": [],
   "source": [
    "type IP []byte"
   ]
  },
  {
   "cell_type": "code",
   "execution_count": 169,
   "metadata": {},
   "outputs": [],
   "source": [
    "func (ip IP) updateIP() IP{\n",
    "    ip[0] = 'x'\n",
    "    return ip\n",
    "}\n",
    "\n",
    "func (ip *IP) copyIP() IP{\n",
    "    (*ip)[0] = 'p'\n",
    "    return *ip\n",
    "}"
   ]
  },
  {
   "cell_type": "code",
   "execution_count": 170,
   "metadata": {},
   "outputs": [],
   "source": [
    "ip := IP{'a', 'b'}"
   ]
  },
  {
   "cell_type": "code",
   "execution_count": 171,
   "metadata": {},
   "outputs": [
    {
     "data": {
      "text/plain": [
       "[120 98]"
      ]
     },
     "execution_count": 171,
     "metadata": {},
     "output_type": "execute_result"
    }
   ],
   "source": [
    "ip.updateIP()"
   ]
  },
  {
   "cell_type": "code",
   "execution_count": 172,
   "metadata": {},
   "outputs": [
    {
     "data": {
      "text/plain": [
       "[120 98]"
      ]
     },
     "execution_count": 172,
     "metadata": {},
     "output_type": "execute_result"
    }
   ],
   "source": [
    "ip"
   ]
  },
  {
   "cell_type": "markdown",
   "metadata": {},
   "source": [
    "## 引用类型的指针接收方法 共享引用类型 本质也是共享对象"
   ]
  },
  {
   "cell_type": "code",
   "execution_count": 175,
   "metadata": {},
   "outputs": [
    {
     "data": {
      "text/plain": [
       "[112 98]"
      ]
     },
     "execution_count": 175,
     "metadata": {},
     "output_type": "execute_result"
    }
   ],
   "source": [
    "ip.copyIP()"
   ]
  },
  {
   "cell_type": "code",
   "execution_count": 176,
   "metadata": {},
   "outputs": [
    {
     "data": {
      "text/plain": [
       "[112 98]"
      ]
     },
     "execution_count": 176,
     "metadata": {},
     "output_type": "execute_result"
    }
   ],
   "source": [
    "ip"
   ]
  },
  {
   "cell_type": "markdown",
   "metadata": {},
   "source": [
    "> 引用类型 无论是复制还是共享引用对象， 引用类型的指针指的是指向同一个对象\n",
    "\n",
    "> 原始类型 结构类型 遵循:值传递是复制副本，指针传递是共享对象"
   ]
  },
  {
   "cell_type": "markdown",
   "metadata": {},
   "source": [
    "* 如果一个创建用的工厂函数返回了一个指针，就表示这个被返回的值的本质是非原始的。\n",
    "* 具备非原始的本质的结构类型，总是被共享，而不是被复制\n",
    "* 是使用值接收者还是指针接收者，不应该由该方法是否修改了接收到的值来决定。\n",
    "* 这个决策应该基于该类型的本质\n",
    "* 非原始本质使用指针接受者\n",
    "* 原始本质使用原始类型的规则\n",
    "* 非原始的本质，总是应该被共享，而不是被复制"
   ]
  },
  {
   "cell_type": "markdown",
   "metadata": {},
   "source": [
    "实际上非原始本质的结构类型是值里面是指针指向的是实际对象\n",
    "而且引用类型也是值里面的指针指向的实际对象\n",
    "\n",
    "所以非原始本质的结构类型 ≈ 引用 （指针一 --> 值（指针二）--> 实际的值）  指针的指针 = 引用？"
   ]
  }
 ],
 "metadata": {
  "kernelspec": {
   "display_name": "Go",
   "language": "go",
   "name": "gophernotes"
  },
  "language_info": {
   "codemirror_mode": "",
   "file_extension": ".go",
   "mimetype": "",
   "name": "go",
   "nbconvert_exporter": "",
   "pygments_lexer": "",
   "version": "go1.13.3"
  }
 },
 "nbformat": 4,
 "nbformat_minor": 2
}
