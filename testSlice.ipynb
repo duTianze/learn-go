{
 "cells": [
  {
   "cell_type": "markdown",
   "metadata": {},
   "source": [
    "# 1. 切片的内部实现和基础功能"
   ]
  },
  {
   "cell_type": "markdown",
   "metadata": {},
   "source": [
    "切片是一种数据结构，这种数据结构便于使用和管理数据集合。切片是围绕动态数组的概念\n",
    "构建的，可以按需自动增长和缩小。切片的动态增长是通过内置函数 append 来实现的。这个函\n",
    "数可以快速且高效地增长切片。还可以通过对切片再次切片来缩小一个切片的大小。因为切片的\n",
    "底层内存也是在连续块中分配的，所以切片还能获得索引、迭代以及为垃圾回收优化的好处。"
   ]
  },
  {
   "cell_type": "markdown",
   "metadata": {},
   "source": [
    "## 2. 创建和初始化"
   ]
  },
  {
   "cell_type": "markdown",
   "metadata": {},
   "source": [
    "### 2.1. make 和切片字面量"
   ]
  },
  {
   "cell_type": "code",
   "execution_count": 4,
   "metadata": {},
   "outputs": [],
   "source": [
    "// 创建一个字符串切片\n",
    "// 其长度和容量都是 5 个元素\n",
    "slice := make([]string, 5)"
   ]
  },
  {
   "cell_type": "code",
   "execution_count": 5,
   "metadata": {},
   "outputs": [
    {
     "data": {
      "text/plain": [
       "[    ]"
      ]
     },
     "execution_count": 5,
     "metadata": {},
     "output_type": "execute_result"
    }
   ],
   "source": [
    "slice"
   ]
  },
  {
   "cell_type": "code",
   "execution_count": 7,
   "metadata": {},
   "outputs": [],
   "source": [
    "// 使用长度和容量声明整型切片 不允许创建容量小于长度的切片\n",
    "slice := make([]int, 3, 5)"
   ]
  },
  {
   "cell_type": "code",
   "execution_count": 11,
   "metadata": {},
   "outputs": [
    {
     "data": {
      "text/plain": [
       "[0 0 0]"
      ]
     },
     "execution_count": 11,
     "metadata": {},
     "output_type": "execute_result"
    }
   ],
   "source": [
    "slice"
   ]
  },
  {
   "cell_type": "code",
   "execution_count": 12,
   "metadata": {},
   "outputs": [],
   "source": [
    "// 通过切片字面量来声明切片\n",
    "// 创建字符串切片\n",
    "// 其长度和容量都是 5 个元素\n",
    "slice := []string{\"Red\", \"Blue\", \"Green\", \"Yellow\", \"Pink\"}"
   ]
  },
  {
   "cell_type": "code",
   "execution_count": 13,
   "metadata": {},
   "outputs": [
    {
     "data": {
      "text/plain": [
       "[Red Blue Green Yellow Pink]"
      ]
     },
     "execution_count": 13,
     "metadata": {},
     "output_type": "execute_result"
    }
   ],
   "source": [
    "slice"
   ]
  },
  {
   "cell_type": "code",
   "execution_count": 14,
   "metadata": {},
   "outputs": [],
   "source": [
    "// 创建有 3 个元素的整型数组\n",
    "array := [3]int{10, 20, 30}\n",
    "// 创建长度和容量都是 3 的整型切片\n",
    "slice := []int{10, 20, 30}"
   ]
  },
  {
   "cell_type": "markdown",
   "metadata": {},
   "source": [
    "### 2.2 nil 和空切片"
   ]
  },
  {
   "cell_type": "code",
   "execution_count": 17,
   "metadata": {},
   "outputs": [],
   "source": [
    "// 创建 nil 整型切片\n",
    "var slice []int"
   ]
  },
  {
   "cell_type": "code",
   "execution_count": 18,
   "metadata": {},
   "outputs": [],
   "source": [
    "// 使用 make 创建空的整型切片\n",
    "slice := make([]int, 0)\n",
    "// 使用切片字面量创建空的整型切片\n",
    "slice := []int{}"
   ]
  },
  {
   "cell_type": "markdown",
   "metadata": {},
   "source": [
    "## 3. 使用切片 "
   ]
  },
  {
   "cell_type": "markdown",
   "metadata": {},
   "source": [
    "### 3.1 赋值和切片"
   ]
  },
  {
   "cell_type": "code",
   "execution_count": 19,
   "metadata": {},
   "outputs": [],
   "source": [
    "// 创建一个整型切片\n",
    "// 其容量和长度都是 5 个元素\n",
    "slice := []int{10, 20, 30, 40, 50}\n",
    "// 改变索引为 1 的元素的值\n",
    "slice[1] = 25"
   ]
  },
  {
   "cell_type": "code",
   "execution_count": 20,
   "metadata": {},
   "outputs": [],
   "source": [
    "// 创建一个整型切片\n",
    "// 其长度和容量都是 5 个元素\n",
    "slice := []int{10, 20, 30, 40, 50}\n",
    "// 创建一个新切片\n",
    "// 其长度为 2 个元素，容量为 4 个元素\n",
    "//对底层数组容量是 k 的切片 slice[i:j]来说\n",
    "//长度: j - i\n",
    "//容量: k - i \n",
    "newSlice := slice[1:3]"
   ]
  },
  {
   "cell_type": "code",
   "execution_count": 21,
   "metadata": {},
   "outputs": [
    {
     "data": {
      "text/plain": [
       "[20 30]"
      ]
     },
     "execution_count": 21,
     "metadata": {},
     "output_type": "execute_result"
    }
   ],
   "source": [
    "newSlice"
   ]
  },
  {
   "cell_type": "code",
   "execution_count": 25,
   "metadata": {},
   "outputs": [],
   "source": [
    "// 创建一个整型切片\n",
    "// 其长度和容量都是 5 个元素\n",
    "slice := []int{10, 20, 30, 40, 50}\n",
    "// 创建一个新切片\n",
    "// 其长度是 2 个元素，容量是 4 个元素\n",
    "newSlice := slice[1:3]\n",
    "// 修改 newSlice 索引为 1 的元素\n",
    "// 同时也修改了原来的 slice 的索引为 2 的元素\n",
    "newSlice[1] = 999999"
   ]
  },
  {
   "cell_type": "code",
   "execution_count": 26,
   "metadata": {},
   "outputs": [
    {
     "data": {
      "text/plain": [
       "[20 999999]"
      ]
     },
     "execution_count": 26,
     "metadata": {},
     "output_type": "execute_result"
    }
   ],
   "source": [
    "newSlice"
   ]
  },
  {
   "cell_type": "code",
   "execution_count": 27,
   "metadata": {},
   "outputs": [
    {
     "data": {
      "text/plain": [
       "[10 20 999999 40 50]"
      ]
     },
     "execution_count": 27,
     "metadata": {},
     "output_type": "execute_result"
    }
   ],
   "source": [
    "slice"
   ]
  },
  {
   "cell_type": "markdown",
   "metadata": {},
   "source": [
    "### 3.2 切片增长"
   ]
  },
  {
   "cell_type": "code",
   "execution_count": 28,
   "metadata": {},
   "outputs": [],
   "source": [
    "// 创建一个整型切片\n",
    "// 其长度和容量都是 5 个元素\n",
    "slice := []int{10, 20, 30, 40, 50}\n",
    "// 创建一个新切片\n",
    "// 其长度为 2 个元素，容量为 4 个元素\n",
    "newSlice := slice[1:3]\n",
    "// 使用原有的容量来分配一个新元素\n",
    "// 将新元素赋值为 60\n",
    "newSlice = append(newSlice, 60)"
   ]
  },
  {
   "cell_type": "code",
   "execution_count": 29,
   "metadata": {},
   "outputs": [
    {
     "data": {
      "text/plain": [
       "[20 30 60]"
      ]
     },
     "execution_count": 29,
     "metadata": {},
     "output_type": "execute_result"
    }
   ],
   "source": [
    "newSlice"
   ]
  },
  {
   "cell_type": "code",
   "execution_count": 30,
   "metadata": {},
   "outputs": [
    {
     "data": {
      "text/plain": [
       "[10 20 30 60 50]"
      ]
     },
     "execution_count": 30,
     "metadata": {},
     "output_type": "execute_result"
    }
   ],
   "source": [
    "slice"
   ]
  },
  {
   "cell_type": "code",
   "execution_count": 31,
   "metadata": {},
   "outputs": [],
   "source": [
    "// 创建一个整型切片\n",
    "// 其长度和容量都是 4 个元素\n",
    "slice := []int{10, 20, 30, 40}\n",
    "// 向切片追加一个新元素\n",
    "// 将新元素赋值为 50\n",
    "newSlice := append(slice, 50)"
   ]
  },
  {
   "cell_type": "code",
   "execution_count": 32,
   "metadata": {},
   "outputs": [
    {
     "data": {
      "text/plain": [
       "[10 20 30 40 50]"
      ]
     },
     "execution_count": 32,
     "metadata": {},
     "output_type": "execute_result"
    }
   ],
   "source": [
    "newSlice"
   ]
  },
  {
   "cell_type": "markdown",
   "metadata": {},
   "source": [
    "函数 append 会智能地处理底层数组的容量增长。在切片的容量小于 1000 个元素时，总是\n",
    "会成倍地增加容量。一旦元素个数超过 1000，容量的增长因子会设为 1.25，也就是会每次增加 25%\n",
    "的容量。随着语言的演化，这种增长算法可能会有所改变。"
   ]
  },
  {
   "cell_type": "markdown",
   "metadata": {},
   "source": [
    "### 3.3 创建切片时的 3 个索引"
   ]
  },
  {
   "cell_type": "code",
   "execution_count": 33,
   "metadata": {},
   "outputs": [],
   "source": [
    "// 创建字符串切片\n",
    "// 其长度和容量都是 5 个元素\n",
    "source := []string{\"Apple\", \"Orange\", \"Plum\", \"Banana\", \"Grape\"}"
   ]
  },
  {
   "cell_type": "code",
   "execution_count": 34,
   "metadata": {},
   "outputs": [],
   "source": [
    "// 将第三个元素切片，并限制容量\n",
    "// 其长度为 1 个元素，容量为 2 个元素\n",
    "//对于 slice[i:j:k] 或 [2:3:4]\n",
    "//长度: j – i 或 3 - 2 = 1\n",
    "//容量: k – i 或 4 - 2 = 2\n",
    "//slice := source[2:3:4]"
   ]
  },
  {
   "cell_type": "code",
   "execution_count": 35,
   "metadata": {},
   "outputs": [
    {
     "data": {
      "text/plain": [
       "[Plum]"
      ]
     },
     "execution_count": 35,
     "metadata": {},
     "output_type": "execute_result"
    }
   ],
   "source": [
    "slice"
   ]
  },
  {
   "cell_type": "code",
   "execution_count": 37,
   "metadata": {},
   "outputs": [
    {
     "name": "stdout",
     "output_type": "stream",
     "text": [
      "[1 2 3 4]\n"
     ]
    },
    {
     "data": {
      "text/plain": [
       "10 <nil>"
      ]
     },
     "execution_count": 37,
     "metadata": {},
     "output_type": "execute_result"
    }
   ],
   "source": [
    "import \"fmt\"\n",
    "// 创建两个切片，并分别用两个整数进行初始化\n",
    "s1 := []int{1, 2}\n",
    "s2 := []int{3, 4}\n",
    "// 将两个切片追加在一起，并显示结果\n",
    "fmt.Printf(\"%v\\n\", append(s1, s2...))"
   ]
  },
  {
   "cell_type": "markdown",
   "metadata": {},
   "source": [
    "### 3.4. 迭代切片"
   ]
  },
  {
   "cell_type": "code",
   "execution_count": 41,
   "metadata": {},
   "outputs": [
    {
     "name": "stdout",
     "output_type": "stream",
     "text": [
      "Index: 0 Value: 10\n",
      "Index: 1 Value: 20\n",
      "Index: 2 Value: 30\n",
      "Index: 3 Value: 40\n"
     ]
    }
   ],
   "source": [
    "// 1. 使用 for range 迭代切片\n",
    "// 创建一个整型切片\n",
    "// 其长度和容量都是 4 个元素\n",
    "// 当迭代切片时，关键字 range 会返回两个值。第一个值是当前迭代到的索引位置，第二个\n",
    "// 值是该位置对应元素值的一份副本\n",
    "slice := []int{10, 20, 30, 40}\n",
    "\n",
    "for index, value := range slice {\n",
    "    fmt.Printf(\"Index: %d Value: %d\\n\", index, value)\n",
    "}"
   ]
  },
  {
   "cell_type": "code",
   "execution_count": 42,
   "metadata": {},
   "outputs": [
    {
     "name": "stdout",
     "output_type": "stream",
     "text": [
      "Value: 10 Value-Addr: C0000E5210 ElemAddr: C0000E4B60\n",
      "Value: 20 Value-Addr: C0000E5210 ElemAddr: C0000E4B68\n",
      "Value: 30 Value-Addr: C0000E5210 ElemAddr: C0000E4B70\n",
      "Value: 40 Value-Addr: C0000E5210 ElemAddr: C0000E4B78\n"
     ]
    }
   ],
   "source": [
    "// 2. range 提供了每个元素的副本\n",
    "// 需要强调的是，range 创建了每个元素的副本，而不是直接返回对该元素的引用\n",
    "// 因为迭代返回的变量是一个迭代过程中根据切片依次赋值的新变量，所以 value 的地址总\n",
    "// 是相同的。要想获取每个元素的地址，可以使用切片变量和索引值。\n",
    "// 创建一个整型切片\n",
    "// 其长度和容量都是 4 个元素\n",
    "slice := []int{10, 20, 30, 40}\n",
    "// 迭代每个元素，并显示值和地址\n",
    "for index, value := range slice {\n",
    "    fmt.Printf(\"Value: %d Value-Addr: %X ElemAddr: %X\\n\",value, &value, &slice[index])\n",
    "} "
   ]
  },
  {
   "cell_type": "code",
   "execution_count": 43,
   "metadata": {},
   "outputs": [
    {
     "name": "stdout",
     "output_type": "stream",
     "text": [
      "Value: 10\n",
      "Value: 20\n",
      "Value: 30\n",
      "Value: 40\n"
     ]
    }
   ],
   "source": [
    "// 3. 使用空白标识符（下划线）来忽略索引值\n",
    "// 创建一个整型切片\n",
    "// 其长度和容量都是 4 个元素\n",
    "slice := []int{10, 20, 30, 40}\n",
    "// 迭代每个元素，并显示其值\n",
    "for _, value := range slice {\n",
    "    fmt.Printf(\"Value: %d\\n\", value)\n",
    "} "
   ]
  },
  {
   "cell_type": "code",
   "execution_count": 45,
   "metadata": {},
   "outputs": [
    {
     "name": "stdout",
     "output_type": "stream",
     "text": [
      "Index: 2 Value: 30\n",
      "Index: 3 Value: 40\n"
     ]
    }
   ],
   "source": [
    "// 4. 使用传统的 for 循环对切片进行迭代\n",
    "// 有两个特殊的内置函数 len 和 cap，可以用于处理数组、切片和通道。对于切片，函数 len\n",
    "// 返回切片的长度，函数 cap 返回切片的容量。在代码清单 4-41 里，我们使用函数 len 来决定什\n",
    "// 么时候停止对切片的迭代。\n",
    "// 创建一个整型切片\n",
    "// 其长度和容量都是 4 个元素\n",
    "slice := []int{10, 20, 30, 40}\n",
    "// 从第三个元素开始迭代每个元素\n",
    "for index := 2; index < len(slice); index++ {\n",
    "    fmt.Printf(\"Index: %d Value: %d\\n\", index, slice[index])\n",
    "} "
   ]
  },
  {
   "cell_type": "markdown",
   "metadata": {},
   "source": [
    "## 4. 多维切片"
   ]
  },
  {
   "cell_type": "code",
   "execution_count": 46,
   "metadata": {},
   "outputs": [],
   "source": [
    "// 创建一个整型切片的切片\n",
    "slice := [][]int{{10}, {100, 200}}"
   ]
  },
  {
   "cell_type": "code",
   "execution_count": 47,
   "metadata": {},
   "outputs": [
    {
     "data": {
      "text/plain": [
       "[[10] [100 200]]"
      ]
     },
     "execution_count": 47,
     "metadata": {},
     "output_type": "execute_result"
    }
   ],
   "source": [
    "slice"
   ]
  },
  {
   "cell_type": "code",
   "execution_count": 48,
   "metadata": {},
   "outputs": [],
   "source": [
    "// 创建一个整型切片的切片\n",
    "slice := [][]int{{10}, {100, 200}}\n",
    "// 为第一个切片追加值为 20 的元素\n",
    "slice[0] = append(slice[0], 20)"
   ]
  },
  {
   "cell_type": "markdown",
   "metadata": {},
   "source": [
    "## 函数间传递切片"
   ]
  },
  {
   "cell_type": "code",
   "execution_count": 52,
   "metadata": {},
   "outputs": [],
   "source": [
    "// 分配包含 100 万个整型值的切片\n",
    "slice := make([]int, 1e6)\n",
    "// 函数 foo 接收一个整型切片，并返回这个切片\n",
    "func foo(slice []int) []int {\n",
    "    return slice\n",
    "} \n",
    "// 将 slice 传递到函数 foo\n",
    "slice = foo(slice)"
   ]
  },
  {
   "cell_type": "code",
   "execution_count": null,
   "metadata": {},
   "outputs": [],
   "source": []
  }
 ],
 "metadata": {
  "kernelspec": {
   "display_name": "Go",
   "language": "go",
   "name": "gophernotes"
  },
  "language_info": {
   "codemirror_mode": "",
   "file_extension": ".go",
   "mimetype": "",
   "name": "go",
   "nbconvert_exporter": "",
   "pygments_lexer": "",
   "version": "go1.13.3"
  }
 },
 "nbformat": 4,
 "nbformat_minor": 2
}
