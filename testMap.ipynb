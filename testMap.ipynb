{
 "cells": [
  {
   "cell_type": "code",
   "execution_count": 1,
   "metadata": {},
   "outputs": [],
   "source": [
    "// 创建一个映射，键的类型是 string，值的类型是 int\n",
    "dict := make(map[string]int)\n",
    "// 创建一个映射，键和值的类型都是 string\n",
    "// 使用两个键值对初始化映射\n",
    "dict := map[string]string{\"Red\": \"#da1337\", \"Orange\": \"#e95a22\"}"
   ]
  },
  {
   "cell_type": "code",
   "execution_count": 2,
   "metadata": {},
   "outputs": [],
   "source": [
    "// 创建一个空映射，用来存储颜色以及颜色对应的十六进制代码\n",
    "colors := map[string]string{}\n",
    "// 将 Red 的代码加入到映射\n",
    "colors[\"Red\"] = \"#da1337\""
   ]
  },
  {
   "cell_type": "code",
   "execution_count": 3,
   "metadata": {},
   "outputs": [
    {
     "data": {
      "text/plain": [
       "map[Red:#da1337]"
      ]
     },
     "execution_count": 3,
     "metadata": {},
     "output_type": "execute_result"
    }
   ],
   "source": [
    "colors"
   ]
  },
  {
   "cell_type": "code",
   "execution_count": 6,
   "metadata": {},
   "outputs": [],
   "source": [
    "import \"fmt\"\n",
    "// 获取键 Blue 对应的值\n",
    "value, exists := colors[\"Blue\"]\n",
    "// 这个键存在吗？\n",
    "if exists {\n",
    "    fmt.Println(value)\n",
    "} "
   ]
  },
  {
   "cell_type": "code",
   "execution_count": 7,
   "metadata": {},
   "outputs": [
    {
     "name": "stdout",
     "output_type": "stream",
     "text": [
      "Key: AliceBlue Value: #f0f8ff\n",
      "Key: Coral Value: #ff7F50\n",
      "Key: DarkGray Value: #a9a9a9\n",
      "Key: ForestGreen Value: #228b22\n"
     ]
    }
   ],
   "source": [
    "colors := map[string]string{\n",
    "\"AliceBlue\": \"#f0f8ff\",\n",
    "\"Coral\": \"#ff7F50\",\n",
    "\"DarkGray\": \"#a9a9a9\",\n",
    "\"ForestGreen\": \"#228b22\",\n",
    "}\n",
    "// 显示映射里的所有颜色\n",
    "for key, value := range colors {\n",
    "fmt.Printf(\"Key: %s Value: %s\\n\", key, value)\n",
    "} "
   ]
  },
  {
   "cell_type": "code",
   "execution_count": 8,
   "metadata": {},
   "outputs": [
    {
     "name": "stdout",
     "output_type": "stream",
     "text": [
      "Key: AliceBlue Value: #f0f8ff\n",
      "Key: DarkGray Value: #a9a9a9\n",
      "Key: ForestGreen Value: #228b22\n"
     ]
    }
   ],
   "source": [
    "// 删除键为 Coral 的键值对\n",
    "delete(colors, \"Coral\")\n",
    "// 显示映射里的所有颜色\n",
    "for key, value := range colors {\n",
    "fmt.Printf(\"Key: %s Value: %s\\n\", key, value)\n",
    "} "
   ]
  },
  {
   "cell_type": "code",
   "execution_count": 13,
   "metadata": {},
   "outputs": [
    {
     "name": "stdout",
     "output_type": "stream",
     "text": [
      "Key: DarkGray Value: #a9a9a9\n",
      "Key: ForestGreen Value: #228b22\n",
      "Key: AliceBlue Value: #f0f8ff\n",
      "Key: Coral Value: #ff7F50\n",
      "Key: AliceBlue Value: #f0f8ff\n",
      "Key: DarkGray Value: #a9a9a9\n",
      "Key: ForestGreen Value: #228b22\n"
     ]
    }
   ],
   "source": [
    "// 创建一个映射，存储颜色以及颜色对应的十六进制代码\n",
    "colors := map[string]string{\n",
    "    \"AliceBlue\": \"#f0f8ff\",\n",
    "    \"Coral\": \"#ff7F50\",\n",
    "    \"DarkGray\": \"#a9a9a9\",\n",
    "    \"ForestGreen\": \"#228b22\"}\n",
    "// 显示映射里的所有颜色\n",
    "for key, value := range colors {\n",
    "fmt.Printf(\"Key: %s Value: %s\\n\", key, value)\n",
    " }\n",
    "// 调用函数来移除指定的键\n",
    "removeColor(colors, \"Coral\")\n",
    "// 显示映射里的所有颜色\n",
    "for key, value := range colors {\n",
    "    fmt.Printf(\"Key: %s Value: %s\\n\", key, value)\n",
    "}\n",
    "// removeColor 将指定映射里的键删除\n",
    "func removeColor(colors map[string]string, key string) {\n",
    "delete(colors, key)\n",
    "} "
   ]
  },
  {
   "cell_type": "code",
   "execution_count": null,
   "metadata": {},
   "outputs": [],
   "source": []
  },
  {
   "cell_type": "code",
   "execution_count": null,
   "metadata": {},
   "outputs": [],
   "source": []
  }
 ],
 "metadata": {
  "kernelspec": {
   "display_name": "Go",
   "language": "go",
   "name": "gophernotes"
  },
  "language_info": {
   "codemirror_mode": "",
   "file_extension": ".go",
   "mimetype": "",
   "name": "go",
   "nbconvert_exporter": "",
   "pygments_lexer": "",
   "version": "go1.13.3"
  }
 },
 "nbformat": 4,
 "nbformat_minor": 2
}
